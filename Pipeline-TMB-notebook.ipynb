{
 "cells": [
  {
   "cell_type": "markdown",
   "id": "complete-maine",
   "metadata": {
    "id": "unlikely-thomson"
   },
   "source": [
    "### Développement d’un pipeline de calcul du TMB\n",
    "\n",
    "#### Projet 4BiM, 2021"
   ]
  },
  {
   "cell_type": "markdown",
   "id": "premier-shepherd",
   "metadata": {
    "id": "premier-shepherd"
   },
   "source": [
    "#### Auteurs : Marie Casimir, Loup Petitjean et Nicolas Mendiboure\n",
    "#### Encadrantes Innate-Pharma : Sabrina Carpentier et Luciana Bastista\n",
    "#### Encadrante INSA : Maïwenn Pineau"
   ]
  },
  {
   "cell_type": "markdown",
   "id": "R_N6O2NoP9iW",
   "metadata": {
    "id": "R_N6O2NoP9iW"
   },
   "source": [
    "### Installation et import des modules"
   ]
  },
  {
   "cell_type": "code",
   "execution_count": 1,
   "id": "proper-night",
   "metadata": {
    "id": "proper-night"
   },
   "outputs": [],
   "source": [
    "import io\n",
    "import copy\n",
    "import pandas as pd\n",
    "import numpy as np\n",
    "from collections import Counter"
   ]
  },
  {
   "cell_type": "markdown",
   "id": "fancy-snake",
   "metadata": {},
   "source": [
    "## Importation de vcf sample1 :"
   ]
  },
  {
   "cell_type": "code",
   "execution_count": 2,
   "id": "german-newsletter",
   "metadata": {},
   "outputs": [],
   "source": [
    "def check_extension(path):\n",
    "    \"\"\"\n",
    "    Argument :\n",
    "        \n",
    "        path : string, chemin vers le fichier à vérifier.\n",
    "        \n",
    "        Cette fonction permet de bien vérifier que le fichier d'entré contient\n",
    "    bien l'extension .vcf.\n",
    "    \n",
    "    Attention : sur Windows cela peut poser un problème car les extensions de fichiers \n",
    "    ne sont pas toujours apparentes dans les chemins.\n",
    "    \n",
    "    Return:\n",
    "    \n",
    "        True ou False si le fichier est dans les normes.\n",
    "    \"\"\"\n",
    "    \n",
    "    split = path.split(\".\")\n",
    "    format_name = len(split) -1 \n",
    "\n",
    "    if (split[format_name].lower() != \"vcf\"):\n",
    "        print(\"Votre fichier n'est pas au bon format, format attendu : vcf\")\n",
    "        return(False)\n",
    "    else :\n",
    "        print(\"Succès : extension vcf détectée\")\n",
    "        return(True)"
   ]
  },
  {
   "cell_type": "code",
   "execution_count": 3,
   "id": "mexican-cassette",
   "metadata": {},
   "outputs": [],
   "source": [
    "def check_format(path):\n",
    "    \"\"\"\n",
    "    Argument :\n",
    "    \n",
    "        path : string, chemin vers le fichier à vérifier.\n",
    "        \n",
    "        Dans tous le fichiers VCF, la première informative doit être de la forme : ##format=VCFv4.x.\n",
    "    Cette fonction permet de le vérifier, elle renvoie True dans le cas échéant et False sinon.\n",
    "    \n",
    "    Return :\n",
    "        \n",
    "        True ou False si le fichier est dans les normes.\n",
    "    \"\"\"\n",
    "    with open(path, 'r') as f:\n",
    "        line = f.readline()\n",
    "    \n",
    "    if (line.find(\"VCF\") != -1): #Si on trouve 'VCF' dans line \n",
    "        return (True)\n",
    "    else:\n",
    "        return(False)"
   ]
  },
  {
   "cell_type": "code",
   "execution_count": 4,
   "id": "satellite-settlement",
   "metadata": {},
   "outputs": [],
   "source": [
    "def check_missing_data(df):\n",
    "    \"\"\"\n",
    "    Argument : \n",
    "    \n",
    "        df : dataframe.\n",
    "    \n",
    "        Cette fonction permet de vérifier si le fichier vcf n'est pas érroné.\n",
    "    Pour cela on regarde qu'il ne manque pas de colonne, s'il en manque, la fonction \n",
    "    renvoie False avec le nom de la colonne manquante.\n",
    "    On vérifie ensuite qu'il ne manque pas d'information sur chaque variant  (ou ligne),\n",
    "    pour cela on regarde qu'il n'y ait pas de NaN. S'il y a trop de NaN, elle return False,\n",
    "    si le nombre de NaN est faible comparé à la taille du fichier, on supprime les lignes où\n",
    "    sont localisés les NaN.\n",
    "    \n",
    "    Return:\n",
    "    \n",
    "        -1 :  le fichier n'est pas bon on le rejette ;\n",
    "        \n",
    "        0 : Le fichier est à la limite de l'acceptable (quelques NaN) \n",
    "        et peut subir une modification pour traiter les NaN ;\n",
    "        \n",
    "        1 : Le fichier est validé.\n",
    "    \"\"\"\n",
    "    \n",
    "    #Vérifier  qu'il ne manque pas une colonne dans le ficher :\n",
    "    columns = ['CHROM', 'POS', 'ID', 'REF', 'ALT', 'QUAL', 'FILTER', 'INFO', 'FORMAT']\n",
    "    for col in columns:\n",
    "        if (col not in df.columns):\n",
    "            print(\"Ce fichier vcf est incomplet\")\n",
    "            print(\"Il manque la colonne {}\".format(col))\n",
    "            return (-1)\n",
    "        \n",
    "    #Vérifier que chaque ligne est bien complète (pas de NaN): \n",
    "    NaN_col = df.isna().sum(axis=0)\n",
    "    NaN_cutoff = 3 #nombre de NaN admissibles par fichier vcf, au dèla fichier rejetté.\n",
    "    \n",
    "    if (sum(NaN_col) !=0) : #s'il y a des NaN\n",
    "        if (sum(NaN_col) <= NaN_cutoff) :\n",
    "            return(0)\n",
    "            \n",
    "        else:\n",
    "            print(\"Votre fichier un nombre de données manquantes trop élevé.\")\n",
    "            print(\"Veuillez fournir un vcf de meilleur qualité.\")\n",
    "            return (-1)\n",
    "    else:\n",
    "        print(\"Contrôle des NaN : Ok\")\n",
    "        return(1)"
   ]
  },
  {
   "cell_type": "code",
   "execution_count": 5,
   "id": "unavailable-clock",
   "metadata": {},
   "outputs": [],
   "source": [
    "def drop_NaN_rows(df):\n",
    "    \n",
    "    \"\"\"\n",
    "    Argument: \n",
    "    \n",
    "        df : dataframe.\n",
    "        \n",
    "        Cette fonctionne permet de supprimer les lignes dans lesquelles on aurait des NaN.\n",
    "    \n",
    "    Return :\n",
    "    \n",
    "        new_df : dataframe dont les lignes contenant des 'NaN' ont été supprimées.\n",
    "    \"\"\"\n",
    "    \n",
    "    new_df = copy.deepcopy(df) # Pour ne pas ecraser notre df initial \n",
    "    NaN_line = df.isna().sum(axis=1)\n",
    "    indexes = []\n",
    "    for i, line in enumerate(NaN_line.values):\n",
    "                if (line != 0):\n",
    "                    indexes.append(i)\n",
    "    for idx in indexes :\n",
    "                new_df = df.drop([idx], axis = 0)\n",
    "            \n",
    "    print(\"Suppression des NaN : Ok\")      \n",
    "    return (new_df)"
   ]
  },
  {
   "cell_type": "code",
   "execution_count": 6,
   "id": "entitled-dynamics",
   "metadata": {},
   "outputs": [],
   "source": [
    "def quality_control(df):\n",
    "    \"\"\"\n",
    "    Argument:\n",
    "    \n",
    "        df : dataframe à controler.\n",
    "        \n",
    "        Cette fonction fait appel à notre fonction check_missing_data,\n",
    "    elle fait une synthèse sur la qualité de notre fichier au moment de l'importer\n",
    "    dans la fonction read_vcf.\n",
    "    \n",
    "    Return : \n",
    "        \n",
    "        df2 : dataframe avec contrôle qualité effectué.\n",
    "    \"\"\"\n",
    "    \n",
    "    miss = check_missing_data(df)\n",
    "    #print(miss)\n",
    "    \n",
    "    if (miss == -1):\n",
    "        return (False)\n",
    "    \n",
    "    elif (miss == 1):\n",
    "        return (df)\n",
    "    \n",
    "    elif (miss == 0):\n",
    "        df2 = drop_NaN_rows(df) #remove NaN rows\n",
    "        df2.index = range(0, len(df2),1) #car les indexes ne sont plus bons à cause du df.drop\n",
    "        return (df2)"
   ]
  },
  {
   "cell_type": "code",
   "execution_count": 7,
   "id": "freelance-imperial",
   "metadata": {},
   "outputs": [],
   "source": [
    "def read_vcf(path, QC = True):\n",
    "    \"\"\"\n",
    "    Arguments :\n",
    "        \n",
    "        path : string,  chemin vers le fichier vcf à importer ;\n",
    "        \n",
    "        QC : booléen, effectue un controle qualité si True.\n",
    "    \n",
    "        Cette fonction permet d'importer un fichier vcf et de le convertir en dataframe.\n",
    "    Il y a la possiblité de faire en amont un contrôle qualité via l'appel de la fonction quality_control \n",
    "    si QC == True, sinon importation classique. \n",
    "    \n",
    "    Return :\n",
    "        \n",
    "        vcf_df : dataframe du fichier vcf importé.\n",
    "    \"\"\"\n",
    "    \n",
    "    if (check_extension(path) == True) and (check_format(path) == True) :\n",
    "        with open(path, 'r') as f:\n",
    "            lines = [l for l in f if not l.startswith('##')]\n",
    "        \n",
    "        vcf_df = pd.read_csv( io.StringIO(''.join(lines)), dtype={'#CHROM': str, 'POS': int, 'ID': str, \n",
    "                                                               'REF': str, 'ALT': str,'QUAL': str, \n",
    "                                                               'FILTER': str, 'INFO': str, 'FORMAT': str}, \n",
    "                         sep='\\t').rename(columns={'#CHROM': 'CHROM'})\n",
    "        \n",
    "        if (QC == True):\n",
    "            vcf_df2 = quality_control(vcf_df) #On passe notre vcf en contrôle qualité\n",
    "            print(\"Contrôle qualité du VCF : Ok\")\n",
    "            return(vcf_df2)\n",
    "        \n",
    "        else:\n",
    "            print(\"Contrôle qualité du VCF : Non fait\")\n",
    "            return(vcf_df)"
   ]
  },
  {
   "cell_type": "markdown",
   "id": "german-traffic",
   "metadata": {},
   "source": [
    "## Contrôle des filtres :"
   ]
  },
  {
   "cell_type": "code",
   "execution_count": 8,
   "id": "eastern-boxing",
   "metadata": {},
   "outputs": [],
   "source": [
    "def quality_filter_normal(df_normal, reject = ['LowQual', 'INDEL_SPECIFIC_FILTERS;LowQual'], index = True):\n",
    "    \"\"\"\n",
    "    Arguments : \n",
    "        \n",
    "        df_normal : dataframe issu d'un vcf de tissu sain ;\n",
    "        \n",
    "        reject : liste des filtres à ne pas garder ;\n",
    "        \n",
    "        index : booleen qui indique le revoie ou non d'un indexe.\n",
    "    \n",
    "        Cette fonction permet de filtrer (supprimer les lignes) des variants d'un dataframe issus d'un tissu normal \n",
    "    dont le 'FILTER' est contenu dans la liste 'reject'. \n",
    "    Chaque ligne supprimée se retrouve indexée et par son numero de chromosome et par la position du variant \n",
    "    dans un tuple afin de les supprimer également en aval dans le dataframe tumoral.\n",
    "    \n",
    "    Return : \n",
    "    \n",
    "        df_n : le dataframe normal filtré ;\n",
    "        \n",
    "        indexes : liste de tuples contenant les #chrom et les positions des variants supprimés \n",
    "            sur le dataframe normal pour appliquer la même opération sur le dataframe tumoral.\n",
    "    \"\"\"\n",
    "    \n",
    "    df_n = copy.deepcopy(df_normal) #deep copy pour ne pas ecraser l'original\n",
    "    indexes = []\n",
    "\n",
    "    for muta in df_normal.index:\n",
    "        if df_normal[\"FILTER\"][muta] in reject:\n",
    "            \n",
    "            #On stocke le #CHROM et la #POS correspondant dans un tuple,\n",
    "            #pour effectuer la même suppression dans notre fichier tumoral apres :\n",
    "            indexes.append( (df_normal[\"CHROM\"][muta], df_normal[\"POS\"][muta]))\n",
    "            \n",
    "            #On supprime ensuite la ligne correspondante car mauvaise qualite\n",
    "            df_n = df_n.drop(labels = muta, axis=0)\n",
    "            \n",
    "    df_n.index = range(0, len(df_n), 1) #reajustement des indexes apres le drop\n",
    "    \n",
    "    if (index == True):\n",
    "        return(df_n, indexes)\n",
    "    else:\n",
    "        return(df_n)"
   ]
  },
  {
   "cell_type": "code",
   "execution_count": 190,
   "id": "funded-rotation",
   "metadata": {},
   "outputs": [],
   "source": [
    "def quality_filter_tumor(df_tumor, index_normal, reject = ['LowQual', 'INDEL_SPECIFIC_FILTERS;LowQual']):\n",
    "    \"\"\"\n",
    "    Arguments:\n",
    "    \n",
    "        df_tumor : dataframe issu d'un vcf de tissu tumoral ;\n",
    "        \n",
    "        index_normal : liste de tuples contenant les #chrom et les positions des variants supprimés\n",
    "                        pour appliquer la même opération sur le dataframe tumoral;\n",
    "        \n",
    "        reject : liste des filtres à ne pas garder ;\n",
    "        \n",
    "        Cette fonction permet de filtrer un dataframe issu d'un tissu tumoral. \n",
    "    Dans un premier temps on supprime tous ce qui a été supprimé dans le dataframe normal complémentaire.\n",
    "    Ensuite on supprime les varaiants dont le 'FILTER' est contenu dans la liste 'reject'\n",
    "    \n",
    "    Return :\n",
    "    \n",
    "        df_t : dataframe tumoral filtré.\n",
    "    \"\"\"\n",
    "    \n",
    "    df_t = copy.deepcopy(df_tumor) #deep copy pour ne pas ecraser l'original\n",
    "    \n",
    "    for chrom_pos in index_normal: #chrom_pos : tuple (#CHROM, #POS)\n",
    "        chrom = chrom_pos[0] #CHROM\n",
    "        pos = chrom_pos[1] #POS\n",
    "        if(pos in df_tumor[\"POS\"].loc[df_tumor[\"CHROM\"] == chrom].values): #on regarde si la position indexee de df_normal est aussi dans df_tumor\n",
    "            tmp_index = int(np.argwhere(df_tumor[\"POS\"].loc[df_tumor[\"CHROM\"] == chrom].values == pos)) #indexe de cette position\n",
    "            #print(chrom, pos, tmp_index)\n",
    "            df_t = df_t.drop(labels = tmp_index, axis=0) #on supprime la ligne ou il y a cette position\n",
    "              \n",
    "        df_t.index = range(0, len(df_t), 1) #reajustement des indexes apres le drop\n",
    "    \n",
    "    for muta in df_t.index: #idem que dans quality_filter_normal, on enleve les filters de mauvaise qualite\n",
    "        if df_t[\"FILTER\"][muta] in reject:\n",
    "            df_t = df_t.drop(labels = muta, axis=0)\n",
    "            \n",
    "    df_t.index = range(0, len(df_t), 1)  #reajustement des indexes apres le drop\n",
    "    \n",
    "    return (df_t)"
   ]
  },
  {
   "cell_type": "code",
   "execution_count": 180,
   "id": "unlikely-palestine",
   "metadata": {},
   "outputs": [
    {
     "data": {
      "text/plain": [
       "'1'"
      ]
     },
     "execution_count": 180,
     "metadata": {},
     "output_type": "execute_result"
    }
   ],
   "source": [
    "sample1_normal_chr1['CHROM'][661]"
   ]
  },
  {
   "cell_type": "code",
   "execution_count": 186,
   "id": "external-duplicate",
   "metadata": {},
   "outputs": [
    {
     "data": {
      "text/plain": [
       "array([], shape=(0, 1), dtype=int64)"
      ]
     },
     "execution_count": 186,
     "metadata": {},
     "output_type": "execute_result"
    }
   ],
   "source": [
    "np.argwhere(sample1_normal_chr12[\"POS\"].loc[sample1_tumor_chr12[\"CHROM\"] == '2'].values == 15564799)"
   ]
  },
  {
   "cell_type": "code",
   "execution_count": 10,
   "id": "dynamic-difference",
   "metadata": {},
   "outputs": [],
   "source": [
    "def global_filter(df_tumor, df_normal, reject = ['LowQual', 'INDEL_SPECIFIC_FILTERS;LowQual']):\n",
    "    \n",
    "    \"\"\"\n",
    "    Arguments :\n",
    "    \n",
    "        df_tumor : dataframe issu d'un vcf de tissu tumoral ;\n",
    "        \n",
    "        df_normal : dataframe issu d'un vcf de tissu sain ;\n",
    "        \n",
    "        reject : liste des filtres à ne pas garder ;\n",
    "        \n",
    "        Fonction qui prend en entrée 2 fichiesr vcf complémentaires (tumoral et normal issus d'un même individu),\n",
    "    et qui fait appel aux fonctions quality_filter_normal et quality_filter_tumor afin de les filtrer,\n",
    "    selon les filtres retenus dans la liste reject.\n",
    "    \n",
    "    Return :\n",
    "    \n",
    "        filtered_df_tumor : dataframe tumoral filtré ;\n",
    "        \n",
    "        filtered_df_normal : dataframe normal fitré.\n",
    "            \n",
    "            \n",
    "    \"\"\"\n",
    "    \n",
    "    filtered_df_normal = quality_filter_normal(df_normal, reject, index=True)[0]\n",
    "    indexes2remove = quality_filter_normal(df_normal, reject, index=True)[1]\n",
    "    \n",
    "    filtered_df_tumor = quality_filter_tumor(df_tumor, indexes2remove, reject)\n",
    "    \n",
    "    print(\"Filtrage des variants de qualité :\", *reject, sep='\\n')\n",
    "    \n",
    "    return (filtered_df_tumor,\n",
    "           filtered_df_normal)"
   ]
  },
  {
   "cell_type": "code",
   "execution_count": 101,
   "id": "portuguese-january",
   "metadata": {},
   "outputs": [
    {
     "name": "stdout",
     "output_type": "stream",
     "text": [
      "Succès : extension vcf détectée\n",
      "Contrôle qualité du VCF : Non fait\n",
      "Succès : extension vcf détectée\n",
      "Contrôle qualité du VCF : Non fait\n",
      "Succès : extension vcf détectée\n",
      "Contrôle qualité du VCF : Non fait\n"
     ]
    }
   ],
   "source": [
    "sample1_normal = read_vcf(\"./vcf_files/sample1/Sample1-PBMC_normal_dna.vcf\", QC=False)\n",
    "sample1_tumor = read_vcf(\"./vcf_files/sample1/Sample1_tumor_dna.vcf\", QC=False)\n",
    "sample1_somatic = read_vcf(\"./vcf_files/sample1/Sample1_somatic_dna.vcf\", QC=False)"
   ]
  },
  {
   "cell_type": "code",
   "execution_count": 50,
   "id": "possible-shell",
   "metadata": {},
   "outputs": [
    {
     "name": "stdout",
     "output_type": "stream",
     "text": [
      "161052 170921 251\n"
     ]
    }
   ],
   "source": [
    "print(len(sample1_normal), len(sample1_tumor), len(sample1_somatic))"
   ]
  },
  {
   "cell_type": "markdown",
   "id": "judicial-teaching",
   "metadata": {},
   "source": [
    "## Creation de fichiers 'lite'  (chr1)"
   ]
  },
  {
   "cell_type": "code",
   "execution_count": 136,
   "id": "proved-batch",
   "metadata": {},
   "outputs": [],
   "source": [
    "def select_chr(df, chrom):\n",
    "    \"\"\"\n",
    "    Arguments :\n",
    "    \n",
    "        df : dataframe.\n",
    "        \n",
    "        chrom : liste, le ou les chromosomes à conserver.\n",
    "        \n",
    "        Cette fonction permet de ne conserver qu'un ou plusieurs chromosomes parmi l'ensemble du dataframe,\n",
    "    afin de réduire le dataframe et ainsi reduire les temps de chargement pour la suite de ce pipeline\n",
    "    (ex : calcul du TMB qui peut être très long selon la taille du fichier etc ..)\n",
    "    \n",
    "    Return :\n",
    "    \n",
    "        new_df : dataframe n'ayant conservé que l'information sur les chromosomes renseignés par l'utilisateur.\n",
    "    \"\"\"\n",
    "    new_df = copy.deepcopy(df)\n",
    "    \n",
    "    if (len(chrom) == 1): #Garder un seul chromosome\n",
    "        new_df = df.loc[df[\"CHROM\"] == str(chrom[0])]\n",
    "        new_df.index = range(0, len(new_df), 1)  #reajustement des indexes\n",
    "        return(new_df)\n",
    "    \n",
    "    elif (len(chrom) >1): #Conserver plusieurs chromosomes\n",
    "        chrom = sorted(chrom) # numero chromosome dans l'ordre croissant\n",
    "        new_df = df.loc[df[\"CHROM\"] == str(chrom[0])]\n",
    "        for i in range(1, len(chrom), 1):\n",
    "            tmp_df = df.loc[df[\"CHROM\"] == str(chrom[i])]\n",
    "            new_df = pd.concat([new_df, tmp_df])\n",
    "            #print(len(tmp_df), len(new_df))\n",
    "            \n",
    "        new_df.index = range(0, len(new_df), 1)\n",
    "        #print(\"Seuls les chromosomes suivants ont bien été conservés : \", *chrom, sep = \"\\n\")\n",
    "        return(new_df)"
   ]
  },
  {
   "cell_type": "code",
   "execution_count": 154,
   "id": "japanese-dimension",
   "metadata": {},
   "outputs": [],
   "source": [
    "sample1_normal_chr12 = select_chr(sample1_normal, ['1', '2'])\n",
    "sample1_tumor_chr12 = select_chr(sample1_tumor, ['1', '2'])\n",
    "sample1_somatic_chr12 = select_chr(sample1_somatic, ['1', '2'])"
   ]
  },
  {
   "cell_type": "code",
   "execution_count": 151,
   "id": "piano-shuttle",
   "metadata": {},
   "outputs": [],
   "source": [
    "sample1_normal_chr1 = select_chr(sample1_normal, [1])\n",
    "sample1_tumor_chr1 = select_chr(sample1_tumor, [1])\n",
    "sample1_somatic_chr1 = select_chr(sample1_somatic, [1])"
   ]
  },
  {
   "cell_type": "code",
   "execution_count": 149,
   "id": "million-supervision",
   "metadata": {},
   "outputs": [],
   "source": [
    "sample1_normal_chr2 = select_chr(sample1_normal, [2])\n",
    "sample1_tumor_chr2 = select_chr(sample1_tumor, [2])\n",
    "sample1_somatic_chr2 = select_chr(sample1_somatic, [2])"
   ]
  },
  {
   "cell_type": "code",
   "execution_count": 139,
   "id": "apparent-african",
   "metadata": {},
   "outputs": [
    {
     "name": "stdout",
     "output_type": "stream",
     "text": [
      "26783 28390 46\n"
     ]
    }
   ],
   "source": [
    "print(len(sample1_normal_chr12), len(sample1_tumor_chr12), len(sample1_somatic_chr12))"
   ]
  },
  {
   "cell_type": "markdown",
   "id": "psychological-skill",
   "metadata": {},
   "source": [
    "## Test du QC des filtres :"
   ]
  },
  {
   "cell_type": "code",
   "execution_count": 191,
   "id": "intensive-institution",
   "metadata": {},
   "outputs": [
    {
     "name": "stdout",
     "output_type": "stream",
     "text": [
      "Filtrage des variants de qualité :\n",
      "LowQual\n",
      "INDEL_SPECIFIC_FILTERS;LowQual\n"
     ]
    }
   ],
   "source": [
    "# F is for FILTERED\n",
    "F_sample1_tumor_chr12,  F_sample1_normal_chr12= global_filter(sample1_tumor_chr12, sample1_normal_chr12)"
   ]
  },
  {
   "cell_type": "code",
   "execution_count": 152,
   "id": "first-raise",
   "metadata": {},
   "outputs": [
    {
     "name": "stdout",
     "output_type": "stream",
     "text": [
      "Filtrage des variants de qualité :\n",
      "LowQual\n",
      "INDEL_SPECIFIC_FILTERS;LowQual\n"
     ]
    }
   ],
   "source": [
    "# F is for FILTERED\n",
    "F_sample1_tumor_chr1,  F_sample1_normal_chr1= global_filter(sample1_tumor_chr1, sample1_normal_chr1)"
   ]
  },
  {
   "cell_type": "code",
   "execution_count": 153,
   "id": "progressive-diesel",
   "metadata": {},
   "outputs": [
    {
     "name": "stdout",
     "output_type": "stream",
     "text": [
      "Filtrage des variants de qualité :\n",
      "LowQual\n",
      "INDEL_SPECIFIC_FILTERS;LowQual\n"
     ]
    }
   ],
   "source": [
    "# F is for FILTERED\n",
    "F_sample1_tumor_chr2,  F_sample1_normal_chr2= global_filter(sample1_tumor_chr2, sample1_normal_chr2)"
   ]
  },
  {
   "cell_type": "code",
   "execution_count": 13,
   "id": "registered-vegetarian",
   "metadata": {},
   "outputs": [
    {
     "name": "stdout",
     "output_type": "stream",
     "text": [
      "Counter({'PASS': 14021, 'LowQual': 861, 'VQSRTrancheSNP99.90to100.00': 261, 'INDEL_SPECIFIC_FILTERS;LowQual': 125, 'INDEL_SPECIFIC_FILTERS': 51}) \n",
      "\n",
      " Counter({'PASS': 14021, 'VQSRTrancheSNP99.90to100.00': 261, 'INDEL_SPECIFIC_FILTERS': 51})\n"
     ]
    }
   ],
   "source": [
    "print(Counter(sample1_normal_chr1[\"FILTER\"]),\"\\n\\n\",\n",
    "      Counter(F_sample1_normal_chr1[\"FILTER\"]))"
   ]
  },
  {
   "cell_type": "code",
   "execution_count": 14,
   "id": "understood-massage",
   "metadata": {},
   "outputs": [
    {
     "name": "stdout",
     "output_type": "stream",
     "text": [
      "Counter({'PASS': 15052, 'LowQual': 533, 'VQSRTrancheSNP99.90to100.00': 261, 'INDEL_SPECIFIC_FILTERS;LowQual': 173, 'INDEL_SPECIFIC_FILTERS': 149}) \n",
      "\n",
      " Counter({'PASS': 14559, 'VQSRTrancheSNP99.90to100.00': 247, 'INDEL_SPECIFIC_FILTERS': 122})\n"
     ]
    }
   ],
   "source": [
    "print(Counter(sample1_tumor_chr1[\"FILTER\"]),\"\\n\\n\",\n",
    "      Counter(F_sample1_tumor_chr1[\"FILTER\"]))"
   ]
  },
  {
   "cell_type": "code",
   "execution_count": null,
   "id": "capital-memory",
   "metadata": {},
   "outputs": [],
   "source": []
  },
  {
   "cell_type": "code",
   "execution_count": null,
   "id": "signal-disposal",
   "metadata": {},
   "outputs": [],
   "source": []
  },
  {
   "cell_type": "markdown",
   "id": "tired-logan",
   "metadata": {},
   "source": [
    "## Test des inputs :"
   ]
  },
  {
   "cell_type": "code",
   "execution_count": 15,
   "id": "partial-tender",
   "metadata": {},
   "outputs": [
    {
     "name": "stdout",
     "output_type": "stream",
     "text": [
      "Succès : extension vcf détectée\n",
      "Ce fichier vcf est incomplet\n",
      "Il manque la colonne POS\n",
      "Contrôle qualité du VCF : Ok\n",
      "False\n"
     ]
    }
   ],
   "source": [
    "#Test avec un fichier où il manque une colonne :\n",
    "\n",
    "test_colonne = read_vcf(\"vcf_files/sample1/vcf_incomplet_manque_1_colonne.vcf\", QC=True)\n",
    "print(test_colonne)"
   ]
  },
  {
   "cell_type": "code",
   "execution_count": 16,
   "id": "continental-myanmar",
   "metadata": {},
   "outputs": [
    {
     "name": "stdout",
     "output_type": "stream",
     "text": [
      "Succès : extension vcf détectée\n",
      "Suppression des NaN : Ok\n",
      "Contrôle qualité du VCF : Ok\n"
     ]
    },
    {
     "data": {
      "text/html": [
       "<div>\n",
       "<style scoped>\n",
       "    .dataframe tbody tr th:only-of-type {\n",
       "        vertical-align: middle;\n",
       "    }\n",
       "\n",
       "    .dataframe tbody tr th {\n",
       "        vertical-align: top;\n",
       "    }\n",
       "\n",
       "    .dataframe thead th {\n",
       "        text-align: right;\n",
       "    }\n",
       "</style>\n",
       "<table border=\"1\" class=\"dataframe\">\n",
       "  <thead>\n",
       "    <tr style=\"text-align: right;\">\n",
       "      <th></th>\n",
       "      <th>CHROM</th>\n",
       "      <th>POS</th>\n",
       "      <th>ID</th>\n",
       "      <th>REF</th>\n",
       "      <th>ALT</th>\n",
       "      <th>QUAL</th>\n",
       "      <th>FILTER</th>\n",
       "      <th>INFO</th>\n",
       "      <th>FORMAT</th>\n",
       "      <th>Sample1-PBMC_1</th>\n",
       "    </tr>\n",
       "  </thead>\n",
       "  <tbody>\n",
       "    <tr>\n",
       "      <th>6</th>\n",
       "      <td>1</td>\n",
       "      <td>762601</td>\n",
       "      <td>7</td>\n",
       "      <td>T</td>\n",
       "      <td>C</td>\n",
       "      <td>221.84</td>\n",
       "      <td>PASS</td>\n",
       "      <td>AC=2;AF=1;AN=2;DB;DP=6;FS=0;MLEAC=2;MLEAF=1;MQ...</td>\n",
       "      <td>GT:GATK:AD:DP:GQ:PL</td>\n",
       "      <td>1/1:1/1:0,6:6:18:250,18,0</td>\n",
       "    </tr>\n",
       "    <tr>\n",
       "      <th>7</th>\n",
       "      <td>1</td>\n",
       "      <td>762632</td>\n",
       "      <td>8</td>\n",
       "      <td>T</td>\n",
       "      <td>A</td>\n",
       "      <td>57.74</td>\n",
       "      <td>PASS</td>\n",
       "      <td>AC=2;AF=1;AN=2;DB;DP=2;FS=0;MLEAC=2;MLEAF=1;MQ...</td>\n",
       "      <td>GT:GATK:AD:DP:GQ:PL</td>\n",
       "      <td>1/1:1/1:0,2:2:6:85,6,0</td>\n",
       "    </tr>\n",
       "    <tr>\n",
       "      <th>8</th>\n",
       "      <td>1</td>\n",
       "      <td>777122</td>\n",
       "      <td>9</td>\n",
       "      <td>A</td>\n",
       "      <td>T</td>\n",
       "      <td>100.03</td>\n",
       "      <td>PASS</td>\n",
       "      <td>AC=2;AF=1;AN=2;DB;DP=4;FS=0;MLEAC=2;MLEAF=1;MQ...</td>\n",
       "      <td>GT:GATK:AD:DP:GQ:PL</td>\n",
       "      <td>1/1:1/1:0,4:4:12:128,12,0</td>\n",
       "    </tr>\n",
       "    <tr>\n",
       "      <th>9</th>\n",
       "      <td>1</td>\n",
       "      <td>783304</td>\n",
       "      <td>10</td>\n",
       "      <td>T</td>\n",
       "      <td>C</td>\n",
       "      <td>324.78</td>\n",
       "      <td>PASS</td>\n",
       "      <td>AC=2;AF=1;AN=2;DB;DP=8;FS=0;MLEAC=2;MLEAF=1;MQ...</td>\n",
       "      <td>GT:GATK:AD:DP:GQ:PL</td>\n",
       "      <td>1/1:1/1:0,8:8:24:353,24,0</td>\n",
       "    </tr>\n",
       "  </tbody>\n",
       "</table>\n",
       "</div>"
      ],
      "text/plain": [
       "  CHROM     POS  ID REF ALT    QUAL FILTER  \\\n",
       "6     1  762601   7   T   C  221.84   PASS   \n",
       "7     1  762632   8   T   A   57.74   PASS   \n",
       "8     1  777122   9   A   T  100.03   PASS   \n",
       "9     1  783304  10   T   C  324.78   PASS   \n",
       "\n",
       "                                                INFO               FORMAT  \\\n",
       "6  AC=2;AF=1;AN=2;DB;DP=6;FS=0;MLEAC=2;MLEAF=1;MQ...  GT:GATK:AD:DP:GQ:PL   \n",
       "7  AC=2;AF=1;AN=2;DB;DP=2;FS=0;MLEAC=2;MLEAF=1;MQ...  GT:GATK:AD:DP:GQ:PL   \n",
       "8  AC=2;AF=1;AN=2;DB;DP=4;FS=0;MLEAC=2;MLEAF=1;MQ...  GT:GATK:AD:DP:GQ:PL   \n",
       "9  AC=2;AF=1;AN=2;DB;DP=8;FS=0;MLEAC=2;MLEAF=1;MQ...  GT:GATK:AD:DP:GQ:PL   \n",
       "\n",
       "              Sample1-PBMC_1  \n",
       "6  1/1:1/1:0,6:6:18:250,18,0  \n",
       "7     1/1:1/1:0,2:2:6:85,6,0  \n",
       "8  1/1:1/1:0,4:4:12:128,12,0  \n",
       "9  1/1:1/1:0,8:8:24:353,24,0  "
      ]
     },
     "execution_count": 16,
     "metadata": {},
     "output_type": "execute_result"
    }
   ],
   "source": [
    "#Test avec un fichier où in y a des NaN sur une ligne :\n",
    "\n",
    "test_ligne = read_vcf(\"vcf_files/sample1/vcf_ligne_incomplete.vcf\")\n",
    "test_ligne.tail(4)"
   ]
  },
  {
   "cell_type": "code",
   "execution_count": 17,
   "id": "crude-conflict",
   "metadata": {},
   "outputs": [
    {
     "data": {
      "text/plain": [
       "0"
      ]
     },
     "execution_count": 17,
     "metadata": {},
     "output_type": "execute_result"
    }
   ],
   "source": [
    "sum(test_ligne.isna().sum(axis=1)) #On a plus de NaN !"
   ]
  },
  {
   "cell_type": "code",
   "execution_count": 22,
   "id": "narrow-court",
   "metadata": {
    "scrolled": true
   },
   "outputs": [
    {
     "data": {
      "text/html": [
       "<div>\n",
       "<style scoped>\n",
       "    .dataframe tbody tr th:only-of-type {\n",
       "        vertical-align: middle;\n",
       "    }\n",
       "\n",
       "    .dataframe tbody tr th {\n",
       "        vertical-align: top;\n",
       "    }\n",
       "\n",
       "    .dataframe thead th {\n",
       "        text-align: right;\n",
       "    }\n",
       "</style>\n",
       "<table border=\"1\" class=\"dataframe\">\n",
       "  <thead>\n",
       "    <tr style=\"text-align: right;\">\n",
       "      <th></th>\n",
       "      <th>CHROM</th>\n",
       "      <th>POS</th>\n",
       "      <th>ID</th>\n",
       "      <th>REF</th>\n",
       "      <th>ALT</th>\n",
       "      <th>QUAL</th>\n",
       "      <th>FILTER</th>\n",
       "      <th>INFO</th>\n",
       "      <th>FORMAT</th>\n",
       "      <th>Sample1</th>\n",
       "    </tr>\n",
       "  </thead>\n",
       "  <tbody>\n",
       "    <tr>\n",
       "      <th>0</th>\n",
       "      <td>1</td>\n",
       "      <td>752721</td>\n",
       "      <td>1</td>\n",
       "      <td>A</td>\n",
       "      <td>G</td>\n",
       "      <td>729.77</td>\n",
       "      <td>PASS</td>\n",
       "      <td>AC=2;AF=1;AN=2;DB;DP=21;FS=0;MLEAC=2;MLEAF=1;M...</td>\n",
       "      <td>GT:GATK:AD:DP:GQ:PL</td>\n",
       "      <td>1/1:1/1:0,21:21:63:758,63,0</td>\n",
       "    </tr>\n",
       "    <tr>\n",
       "      <th>1</th>\n",
       "      <td>1</td>\n",
       "      <td>752894</td>\n",
       "      <td>2</td>\n",
       "      <td>T</td>\n",
       "      <td>C</td>\n",
       "      <td>367.77</td>\n",
       "      <td>VQSRTrancheSNP99.90to100.00</td>\n",
       "      <td>AC=2;AF=1;AN=2;DB;DP=10;FS=0;MLEAC=2;MLEAF=1;M...</td>\n",
       "      <td>GT:GATK:AD:DP:GQ:PL</td>\n",
       "      <td>1/1:1/1:0,10:10:30:396,30,0</td>\n",
       "    </tr>\n",
       "    <tr>\n",
       "      <th>2</th>\n",
       "      <td>1</td>\n",
       "      <td>761957</td>\n",
       "      <td>3</td>\n",
       "      <td>A</td>\n",
       "      <td>AT</td>\n",
       "      <td>1252.73</td>\n",
       "      <td>PASS</td>\n",
       "      <td>AC=2;AF=1;AN=2;DB;DP=31;FS=0;MLEAC=2;MLEAF=1;M...</td>\n",
       "      <td>GT:GATK:AD:DP:GQ:PL</td>\n",
       "      <td>1/1:1/1:0,31:31:96:1290,96,0</td>\n",
       "    </tr>\n",
       "    <tr>\n",
       "      <th>3</th>\n",
       "      <td>1</td>\n",
       "      <td>762273</td>\n",
       "      <td>4</td>\n",
       "      <td>G</td>\n",
       "      <td>A</td>\n",
       "      <td>11593.8</td>\n",
       "      <td>PASS</td>\n",
       "      <td>AC=2;AF=1;AN=2;DB;DP=357;FS=0;MLEAC=2;MLEAF=1;...</td>\n",
       "      <td>GT:GATK:AD:DP:GQ:PL</td>\n",
       "      <td>1/1:1/1:0,357:357:99:11622,1071,0</td>\n",
       "    </tr>\n",
       "    <tr>\n",
       "      <th>4</th>\n",
       "      <td>1</td>\n",
       "      <td>762589</td>\n",
       "      <td>5</td>\n",
       "      <td>G</td>\n",
       "      <td>C</td>\n",
       "      <td>1841.77</td>\n",
       "      <td>PASS</td>\n",
       "      <td>AC=2;AF=1;AN=2;DB;DP=42;FS=0;MLEAC=2;MLEAF=1;M...</td>\n",
       "      <td>GT:GATK:AD:DP:GQ:PL</td>\n",
       "      <td>1/1:1/1:0,42:42:99:1870,126,0</td>\n",
       "    </tr>\n",
       "  </tbody>\n",
       "</table>\n",
       "</div>"
      ],
      "text/plain": [
       "  CHROM     POS ID REF ALT     QUAL                       FILTER  \\\n",
       "0     1  752721  1   A   G   729.77                         PASS   \n",
       "1     1  752894  2   T   C   367.77  VQSRTrancheSNP99.90to100.00   \n",
       "2     1  761957  3   A  AT  1252.73                         PASS   \n",
       "3     1  762273  4   G   A  11593.8                         PASS   \n",
       "4     1  762589  5   G   C  1841.77                         PASS   \n",
       "\n",
       "                                                INFO               FORMAT  \\\n",
       "0  AC=2;AF=1;AN=2;DB;DP=21;FS=0;MLEAC=2;MLEAF=1;M...  GT:GATK:AD:DP:GQ:PL   \n",
       "1  AC=2;AF=1;AN=2;DB;DP=10;FS=0;MLEAC=2;MLEAF=1;M...  GT:GATK:AD:DP:GQ:PL   \n",
       "2  AC=2;AF=1;AN=2;DB;DP=31;FS=0;MLEAC=2;MLEAF=1;M...  GT:GATK:AD:DP:GQ:PL   \n",
       "3  AC=2;AF=1;AN=2;DB;DP=357;FS=0;MLEAC=2;MLEAF=1;...  GT:GATK:AD:DP:GQ:PL   \n",
       "4  AC=2;AF=1;AN=2;DB;DP=42;FS=0;MLEAC=2;MLEAF=1;M...  GT:GATK:AD:DP:GQ:PL   \n",
       "\n",
       "                             Sample1  \n",
       "0        1/1:1/1:0,21:21:63:758,63,0  \n",
       "1        1/1:1/1:0,10:10:30:396,30,0  \n",
       "2       1/1:1/1:0,31:31:96:1290,96,0  \n",
       "3  1/1:1/1:0,357:357:99:11622,1071,0  \n",
       "4      1/1:1/1:0,42:42:99:1870,126,0  "
      ]
     },
     "execution_count": 22,
     "metadata": {},
     "output_type": "execute_result"
    }
   ],
   "source": [
    "sample1_tumor.head()\n",
    "#sample1_somatic.head()\n",
    "#sample1_normal.head()"
   ]
  },
  {
   "cell_type": "markdown",
   "id": "durable-server",
   "metadata": {},
   "source": [
    "## Différence entre tumor et normal :"
   ]
  },
  {
   "cell_type": "code",
   "execution_count": 25,
   "id": "compound-deployment",
   "metadata": {},
   "outputs": [],
   "source": [
    "def compare(df_tumor, df_normal):\n",
    "    \"\"\"\n",
    "    Arguments :\n",
    "    \n",
    "        df_tumor : dataframe issu d'un vcf de tissu tumoral ;\n",
    "        \n",
    "        df_normal : dataframe issu d'un vcf de tissu sain ;\n",
    "    \n",
    "            On regarde si une mutation présente dans le fichier vcf tumoral est également présente \n",
    "        dans le fichier vcf sain (dit normal). Dans le cas échéant on ne compte pas cette mutation \n",
    "        comme étant une mutation propre à la tumeur, car elle est peut être localisée à d'autres \n",
    "        endroits dans l'organisme (simple SNP par exemple). \n",
    "        Dans le cas contraire on peut considèrer cette mutation comme étant somatique est propre à la tumeur.\n",
    "        \n",
    "    Return :\n",
    "    \n",
    "        indexes : liste d'ID de mutation présentes dans le dataframe tumoral et absente dans le normal.\n",
    "    \"\"\"\n",
    "    \n",
    "    CHROMS = np.unique(df_tumor['CHROM'].values)\n",
    "    indexes = []\n",
    "    \n",
    "    for _chr_ in CHROMS:\n",
    "        df_t = df_tumor.loc[df_tumor[\"CHROM\"] == _chr_]\n",
    "        df_n = df_normal.loc[df_normal[\"CHROM\"] == _chr_]\n",
    "    \n",
    "        #df to np\n",
    "        POS_tumor = df_t['POS'].values\n",
    "        POS_normal = df_n['POS'].values\n",
    "\n",
    "        for muta in df_tumor.index:\n",
    "            NB_ALT_tumor = len(list(df_t['ALT'][muta]))\n",
    "            START = int(POS_tumor[muta])\n",
    "            END = START + len(list(df_t['ALT'][muta]))\n",
    "\n",
    "            #On identifie une mutation par ses positions de début et de fin (start et end)\n",
    "            if (START in list(POS_normal)): #même debut ?\n",
    "                # !!une meme position peut sur des chr differents!! \n",
    "                index = int(np.argwhere(POS_normal == START))\n",
    "                if (END == int(POS_normal[index]) + len(list(df_n['ALT'][index]) ) ): #même fin ?\n",
    "                    pass # non somatique\n",
    "                else:\n",
    "                    indexes.append(df_t['ID'][muta])\n",
    "            else:\n",
    "                indexes.append(df_t['ID'][muta])\n",
    "                \n",
    "    return (indexes)"
   ]
  },
  {
   "cell_type": "code",
   "execution_count": 26,
   "id": "beneficial-scheduling",
   "metadata": {},
   "outputs": [
    {
     "data": {
      "text/plain": [
       "1223"
      ]
     },
     "execution_count": 26,
     "metadata": {},
     "output_type": "execute_result"
    }
   ],
   "source": [
    "indexes = compare(F_sample1_tumor_chr1, F_sample1_normal_chr1)\n",
    "len(indexes)"
   ]
  },
  {
   "cell_type": "code",
   "execution_count": 27,
   "id": "sized-produce",
   "metadata": {},
   "outputs": [],
   "source": [
    "def create_somatic(tumor_path, somatic_path, indexes):\n",
    "    \"\"\"\n",
    "    Arguments:\n",
    "    \n",
    "        tumor_path : chemin vers le fichier tumoral vcf ;\n",
    "        \n",
    "        somatic_path : chemin vers le futur fichier somatic vcf de sortie;\n",
    "        \n",
    "        indexes : indexes : liste d'ID de mutation présentes dans le dataframe tumoral et absente dans le normal. \n",
    "        \n",
    "        Cette fonction permet d'écrire dans un fichier toutes les mutations présentes dans le tissus tumoral,\n",
    "    et absentes dans le tissu normal. Cette comparaison est faite avec la fonction compare. \n",
    "    \n",
    "    Return :\n",
    "        \n",
    "        Rien (0)\n",
    "        \n",
    "    \"\"\"\n",
    "    \n",
    "    headers = []\n",
    "    lines = []\n",
    "\n",
    "    with open(tumor_path, \"r\") as f_in:\n",
    "        for line in f_in:\n",
    "            if line.startswith('#'):\n",
    "                headers.append(line)\n",
    "            elif not line.startswith('#'):\n",
    "                lines.append(line)\n",
    "\n",
    "    with open(somatic_path, \"w\") as f_out:\n",
    "        for i in range(len(headers)):\n",
    "                f_out.write(headers[i])\n",
    "        for j in range(len(lines)-1):\n",
    "            if (lines[j].split()[2] in indexes):\n",
    "                f_out.write(lines[j])\n",
    "                \n",
    "    return(0)"
   ]
  },
  {
   "cell_type": "code",
   "execution_count": 53,
   "id": "velvet-polish",
   "metadata": {},
   "outputs": [
    {
     "data": {
      "text/plain": [
       "0"
      ]
     },
     "execution_count": 53,
     "metadata": {},
     "output_type": "execute_result"
    }
   ],
   "source": [
    "create_somatic(\"./vcf_files/sample1/Sample1_tumor_dna_chr1.vcf\", \n",
    "               \"./vcf_files/sample1/Sample1_pre_somatic_chr1.vcf\", indexes)"
   ]
  },
  {
   "cell_type": "code",
   "execution_count": null,
   "id": "hybrid-labor",
   "metadata": {},
   "outputs": [],
   "source": []
  },
  {
   "cell_type": "code",
   "execution_count": null,
   "id": "opening-hawaii",
   "metadata": {},
   "outputs": [],
   "source": []
  },
  {
   "cell_type": "code",
   "execution_count": null,
   "id": "moral-bridal",
   "metadata": {},
   "outputs": [],
   "source": []
  },
  {
   "cell_type": "code",
   "execution_count": null,
   "id": "pointed-cinema",
   "metadata": {},
   "outputs": [],
   "source": []
  },
  {
   "cell_type": "code",
   "execution_count": null,
   "id": "color-accreditation",
   "metadata": {},
   "outputs": [],
   "source": []
  },
  {
   "cell_type": "markdown",
   "id": "burning-desktop",
   "metadata": {},
   "source": [
    "## Calcul du TMB :"
   ]
  },
  {
   "cell_type": "code",
   "execution_count": 29,
   "id": "civic-twins",
   "metadata": {},
   "outputs": [],
   "source": [
    "# Savoir si une mutation est synonyme ou pas :\n",
    "\n",
    "def is_synonymous():\n",
    "    pass"
   ]
  },
  {
   "cell_type": "code",
   "execution_count": 30,
   "id": "controversial-element",
   "metadata": {},
   "outputs": [],
   "source": [
    "def TMB_without_somatic(df_tumor, df_normal, exome_length = 1):\n",
    "    \n",
    "    \"\"\"\n",
    "    Arguments :\n",
    "    \n",
    "        df_tumor : dataframe issu d'un vcf de tissu tumoral ;\n",
    "        \n",
    "        df_normal : dataframe issu d'un vcf de tissu sain ;\n",
    "        \n",
    "        exome_length : int, tailler de l'exome de référence pour calculer un taux.\n",
    "         \n",
    "         \n",
    "    Return :\n",
    "    \n",
    "        TMB : float, Taux de mutation.\n",
    "    \"\"\"\n",
    "    \n",
    "    TMB=len(compare(df_tumor, df_normal))\n",
    "    return(TMB/exome_length)"
   ]
  },
  {
   "cell_type": "code",
   "execution_count": 31,
   "id": "computational-evening",
   "metadata": {},
   "outputs": [],
   "source": [
    "def TMB_with_somatic(df_somatic, exome_length = 1):\n",
    "    \"\"\"\n",
    "    \n",
    "    Arguments :\n",
    "    \n",
    "        df_somatic : dataframe d'un vcf somatique.\n",
    "        \n",
    "        exome_length : int, tailler de l'exome de référence pour calculer un taux.\n",
    "        \n",
    "        Ici on calcul notre TMB directement à partir d'un fichier vcf somatic,\n",
    "    il y a donc moins d'étapes. Le calcul revient à prendre \n",
    "    la longueur du nombre de mutations somatiques totales.\n",
    "    \n",
    "    Return :\n",
    "    \n",
    "        TMB : float, Taux de mutation.\n",
    "    \"\"\"\n",
    "    \n",
    "    TMB = len(df_somatic['ALT'].values)\n",
    "    return (TMB/exome_length)"
   ]
  },
  {
   "cell_type": "code",
   "execution_count": 32,
   "id": "packed-dollar",
   "metadata": {},
   "outputs": [],
   "source": [
    "## Bcp trop long à calculer... (pas fini après plus d'1h)\n",
    "\n",
    "#TMB_without_somatic(sample1_tumor, sample1_normal)"
   ]
  },
  {
   "cell_type": "code",
   "execution_count": 54,
   "id": "based-seating",
   "metadata": {},
   "outputs": [
    {
     "data": {
      "text/plain": [
       "1223.0"
      ]
     },
     "execution_count": 54,
     "metadata": {},
     "output_type": "execute_result"
    }
   ],
   "source": [
    "TMB_without_somatic(F_sample1_tumor_chr1, F_sample1_normal_chr1)"
   ]
  },
  {
   "cell_type": "code",
   "execution_count": 34,
   "id": "nasty-permit",
   "metadata": {},
   "outputs": [
    {
     "data": {
      "text/plain": [
       "23.0"
      ]
     },
     "execution_count": 34,
     "metadata": {},
     "output_type": "execute_result"
    }
   ],
   "source": [
    "TMB_with_somatic(sample1_somatic_chr1)"
   ]
  },
  {
   "cell_type": "markdown",
   "id": "Y9bzornPhxQC",
   "metadata": {
    "id": "Y9bzornPhxQC"
   },
   "source": [
    "### Test des librairies pyvcf et cyvcf :\n"
   ]
  },
  {
   "cell_type": "code",
   "execution_count": 35,
   "id": "NyePFj72Sdb1",
   "metadata": {
    "id": "NyePFj72Sdb1"
   },
   "outputs": [],
   "source": [
    "#pip install cyvcf2\n",
    "#pip install pyvcf\n",
    "#pip install hgvs"
   ]
  },
  {
   "cell_type": "code",
   "execution_count": 36,
   "id": "equal-softball",
   "metadata": {},
   "outputs": [],
   "source": [
    "import cyvcf2\n",
    "import vcf"
   ]
  },
  {
   "cell_type": "code",
   "execution_count": 37,
   "id": "oriented-montreal",
   "metadata": {
    "id": "oriented-montreal"
   },
   "outputs": [],
   "source": [
    "## Importation d'un VCF avec la librairie cyvcf2 :\n",
    "## Si les colonnes INFO et FORMAT sont de la forme : AC=40;AF=0.1;AN=2;BQ=36;DP=413;FA=0.1;INDEL=0;MC=C>T\n",
    "\n",
    "def read_cyvcf(vcf):\n",
    "\n",
    "    #Général :\n",
    "\n",
    "    CHROM = []\n",
    "    POS = []\n",
    "    REF = []\n",
    "    ALT = []\n",
    "    QUAL = []\n",
    "    FILTER = []\n",
    "\n",
    "    # Détails de la section INFO du VCF :\n",
    "\n",
    "    AN = [] #Total number of alleles in called genotypes\n",
    "    AC = [] #Allele count in genotypes, for each ALT allele, in the same order as listed\n",
    "    AF = [] #Allele Frequency in primary data, for each ALT allele, in the same order as listed\n",
    "    BQ = [] #RMS base quality\n",
    "    SB = [] #Strand bias\n",
    "    FA = [] #Overall fraction of reads supporting ALT\n",
    "    MC = [] #Modification base changes at this position\n",
    "    MT = [] #Modification types at this position\n",
    "    NS = [] #Number of Samples With Data\n",
    "    DP = [] #Total Depth across samples\n",
    "    VT = [] #Variant type, can be SNP, INS or DEL\n",
    "    SS = [] #Variant status relative to non-adjacent Normal,0=wildtype,1=germline,2=somatic,3=LOH,4=post-transcriptional modification,5=unknown\n",
    "    ORIGIN = [] #Where the call originated from, the tumor DNA, RNA, or both\n",
    "    SOMATIC = [] #Indicates if record is a somatic mutation\n",
    "    INDEL = [] #Number of indels for all samples\n",
    "    START = [] #Number of reads starting at this position across all samples\n",
    "    STOP = [] #Number of reads stopping at this position across all samples\n",
    "\n",
    "\n",
    "\n",
    "    for record in cyvcf2.VCF(vcf):\n",
    "        CHROM.append(record.CHROM)\n",
    "        POS.append(record.POS)\n",
    "        REF.append(record.REF)\n",
    "        ALT.append(record.ALT)\n",
    "        QUAL.append(record.QUAL)\n",
    "        FILTER.append(record.FILTER)\n",
    "\n",
    "        #record.INFO est un objet de type cyvcf, pour extraire les données il faut utiliser .get()\n",
    "        AN.append(record.INFO.get(\"AN\"))\n",
    "        AC.append(record.INFO.get(\"AC\"))\n",
    "        AF.append(record.INFO.get(\"AF\"))\n",
    "        BQ.append(record.INFO.get(\"BQ\"))\n",
    "        SB.append(record.INFO.get(\"SB\"))\n",
    "        FA.append(record.INFO.get(\"FA\"))\n",
    "        MC.append(record.INFO.get(\"MC\"))\n",
    "        MT.append(record.INFO.get(\"MT\"))\n",
    "        NS.append(record.INFO.get(\"NS\"))\n",
    "        DP.append(record.INFO.get(\"DP\"))\n",
    "        VT.append(record.INFO.get(\"VT\"))\n",
    "        SS.append(record.INFO.get(\"SS\"))\n",
    "        ORIGIN.append(record.INFO.get(\"ORIGIN\"))\n",
    "        SOMATIC.append(record.INFO.get(\"SOMATIC\"))\n",
    "        INDEL.append(record.INFO.get(\"INDEL\"))\n",
    "        START.append(record.INFO.get(\"START\"))\n",
    "        STOP.append(record.INFO.get(\"STOP\"))\n",
    "\n",
    "    df_VCF = pd.DataFrame(list(zip(CHROM, POS, REF, ALT, QUAL, FILTER)), \n",
    "                      columns=[\"CHROM\", \"POS\", \"REF\", \"ALT\", \"QUAL\", \"FILTER\"])\n",
    "\n",
    "    df_VCF[ [\"AN\", \"AC\", \"AF\", \"BQ\", \"SB\", \"FA\", \"MC\", \n",
    "         \"MT\", \"NS\", \"DP\", \"VT\", \"SS\", \"ORIGIN\", \n",
    "         \"SOMATIC\", \"INDEL\", \"START\", \"STOP\"]] = pd.DataFrame(list(zip (AN, AC, AF, BQ, SB, FA, MC,\n",
    "                                                                        MT, NS, DP, VT, SS, ORIGIN, \n",
    "                                                                        SOMATIC, INDEL, START, STOP)))\n",
    "    return (df_VCF)"
   ]
  },
  {
   "cell_type": "code",
   "execution_count": 38,
   "id": "frozen-belle",
   "metadata": {
    "id": "frozen-belle"
   },
   "outputs": [],
   "source": [
    "#radia = read_cyvcf(\"./vcf_files/test_radia.vcf\")\n",
    "#radia_alt = radia['ALT'].values\n",
    "#print(radia_alt[0:6])"
   ]
  },
  {
   "cell_type": "code",
   "execution_count": 39,
   "id": "rubber-clone",
   "metadata": {
    "colab": {
     "base_uri": "https://localhost:8080/",
     "height": 166
    },
    "id": "rubber-clone",
    "outputId": "57d8730f-ad87-45c6-9013-d5f92c888b16"
   },
   "outputs": [],
   "source": [
    "#radia.head()"
   ]
  },
  {
   "cell_type": "code",
   "execution_count": 40,
   "id": "corrected-click",
   "metadata": {
    "id": "corrected-click"
   },
   "outputs": [],
   "source": [
    "#basic_radia_TMB = len(radia_alt)\n",
    "#print(basic_radia_TMB)"
   ]
  },
  {
   "cell_type": "markdown",
   "id": "FoaE_Bl-QM4K",
   "metadata": {
    "id": "FoaE_Bl-QM4K"
   },
   "source": [
    "### Fichier mutect.vcf"
   ]
  },
  {
   "cell_type": "code",
   "execution_count": 41,
   "id": "unusual-cleanup",
   "metadata": {
    "id": "unusual-cleanup"
   },
   "outputs": [],
   "source": [
    "# Avec la librairie pyvcf :\n",
    "\n",
    "def read_pyvcf(file):\n",
    "    reader = vcf.Reader(open(file))\n",
    "    df = pd.DataFrame([vars(r) for r in reader])\n",
    "    out = df.merge(pd.DataFrame(df.INFO.tolist()),\n",
    "                   left_index=True, right_index=True)\n",
    "    return out"
   ]
  },
  {
   "cell_type": "code",
   "execution_count": 42,
   "id": "creative-sleeve",
   "metadata": {
    "id": "creative-sleeve"
   },
   "outputs": [],
   "source": [
    "#mutect = read_pyvcf(\"./vcf_files/test_mutect.vcf\")\n",
    "#mutect_alt = mutect['ALT'].values\n",
    "#print(mutect_alt[:6])"
   ]
  },
  {
   "cell_type": "code",
   "execution_count": 43,
   "id": "outer-wrestling",
   "metadata": {
    "id": "outer-wrestling"
   },
   "outputs": [],
   "source": [
    "#basic_mutect_TMB = len(mutect_alt)\n",
    "#print(basic_mutect_TMB)"
   ]
  },
  {
   "cell_type": "code",
   "execution_count": 44,
   "id": "hazardous-redhead",
   "metadata": {
    "id": "hazardous-redhead"
   },
   "outputs": [],
   "source": [
    "#mutect.head()"
   ]
  },
  {
   "cell_type": "code",
   "execution_count": 45,
   "id": "inner-valuation",
   "metadata": {
    "id": "inner-valuation"
   },
   "outputs": [],
   "source": [
    "#muse = read_pyvcf(\"./vcf_files/test_muse.vcf\")\n",
    "#muse.head()"
   ]
  },
  {
   "cell_type": "code",
   "execution_count": 46,
   "id": "rubber-spokesman",
   "metadata": {
    "id": "rubber-spokesman"
   },
   "outputs": [],
   "source": [
    "#merged = read_pyvcf(\"./vcf_files/test_merged.vcf\")\n",
    "#merged.head()"
   ]
  },
  {
   "cell_type": "markdown",
   "id": "J5oUc3KYQURS",
   "metadata": {
    "id": "J5oUc3KYQURS"
   },
   "source": [
    "### Calcul du TMB en comparant un tissu sain et un tissu malade "
   ]
  },
  {
   "cell_type": "markdown",
   "id": "W2SGUT3vRFgy",
   "metadata": {
    "id": "W2SGUT3vRFgy"
   },
   "source": [
    "Comme on n'arrive pas à trouver une paire de jeu de données correctes, on va la fabriquer à partir du fichier mutect.vcf : on va enlever les 2/3 des lignes du fichier, et on considèrera que c'est notre tissu sain de référence. "
   ]
  },
  {
   "cell_type": "markdown",
   "id": "fxiKJ9LZcdm5",
   "metadata": {
    "id": "fxiKJ9LZcdm5"
   },
   "source": [
    "\"In order to filter out germline variants, the ideal situation would be to\n",
    "sequence a matched non-tumor sample from each patient.\""
   ]
  },
  {
   "cell_type": "markdown",
   "id": "lQx-hYoNaMkj",
   "metadata": {
    "id": "lQx-hYoNaMkj"
   },
   "source": [
    "#### Fonction simple"
   ]
  },
  {
   "cell_type": "markdown",
   "id": "t75Gkb7xcpLC",
   "metadata": {
    "id": "t75Gkb7xcpLC"
   },
   "source": [
    "On considère ici que si la mutation est présente dans le tissu sain, c'est une mutation synonyme."
   ]
  },
  {
   "cell_type": "code",
   "execution_count": 47,
   "id": "6PQ1PyOJT1uw",
   "metadata": {
    "id": "6PQ1PyOJT1uw"
   },
   "outputs": [],
   "source": [
    "#mutect_tumor = read_pyvcf(\"./vcf_files/test_mutect.vcf\")\n",
    "#mutect_sain = read_pyvcf(\"./vcf_files/test_mutect_sain.vcf\")"
   ]
  },
  {
   "cell_type": "markdown",
   "id": "CYqnDr6Vfg62",
   "metadata": {
    "id": "CYqnDr6Vfg62"
   },
   "source": [
    "### Cas où l'on n'a pas de tissu sain"
   ]
  },
  {
   "cell_type": "markdown",
   "id": "FnPJbFXMfpHa",
   "metadata": {
    "id": "FnPJbFXMfpHa"
   },
   "source": [
    "On doit comparer nos mutations aux mutations d'une base de donnée pour voir si ces mutations sont dues au polymorphisme ou non.\n"
   ]
  },
  {
   "cell_type": "markdown",
   "id": "O1mzrSiPjdl7",
   "metadata": {
    "id": "O1mzrSiPjdl7"
   },
   "source": [
    "On utilise la libraireie HGVS de python pour comparer nos variations à des variations courantes, contenues dans les BDD : https://www.ncbi.nlm.nih.gov/pmc/articles/PMC6282708/ "
   ]
  },
  {
   "cell_type": "markdown",
   "id": "MRCsI0_0kTrD",
   "metadata": {
    "id": "MRCsI0_0kTrD"
   },
   "source": [
    "Tuto ici : https://github.com/biocommons/hgvs\n"
   ]
  },
  {
   "cell_type": "code",
   "execution_count": 48,
   "id": "HVWEn02NkpVQ",
   "metadata": {
    "id": "HVWEn02NkpVQ"
   },
   "outputs": [],
   "source": [
    "#import hgvs.dataproviders.uta"
   ]
  }
 ],
 "metadata": {
  "colab": {
   "collapsed_sections": [
    "Y9bzornPhxQC",
    "FoaE_Bl-QM4K",
    "J5oUc3KYQURS",
    "lQx-hYoNaMkj"
   ],
   "name": "Pipeline-TMB-notebook.ipynb",
   "provenance": [],
   "toc_visible": true
  },
  "kernelspec": {
   "display_name": "Python 3",
   "language": "python",
   "name": "python3"
  },
  "language_info": {
   "codemirror_mode": {
    "name": "ipython",
    "version": 3
   },
   "file_extension": ".py",
   "mimetype": "text/x-python",
   "name": "python",
   "nbconvert_exporter": "python",
   "pygments_lexer": "ipython3",
   "version": "3.8.8"
  }
 },
 "nbformat": 4,
 "nbformat_minor": 5
}
